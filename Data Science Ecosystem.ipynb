{
 "cells": [
  {
   "cell_type": "markdown",
   "id": "4a9e6213-8b48-4b29-94fd-c03424fe25df",
   "metadata": {},
   "source": [
    "**Data Science Tools and Ecosystem**"
   ]
  },
  {
   "cell_type": "markdown",
   "id": "ee5043b9-c9cd-4405-b59c-2eb4a9311c23",
   "metadata": {},
   "source": [
    "Some of the popular languages that data scientists use are: 1.Python 2.R 3.Julia 4.Java 5.Javascript 6.C++"
   ]
  },
  {
   "cell_type": "markdown",
   "id": "a6606a46-3424-4e6f-8713-4dd316424911",
   "metadata": {},
   "source": [
    "In this notebook data science tools and Ecosystems are summarized."
   ]
  },
  {
   "cell_type": "markdown",
   "id": "34146dd1-3d43-43fc-aee6-27a4376aa2eb",
   "metadata": {},
   "source": [
    "**Objectives**\n",
    "-Creating markdown cells and code cells\n",
    "-adding headings to  markdown cells \n",
    "-adding comments to code cells\n",
    "-creating ordered and unordered lists in markdown cell\n",
    "-Some of the popular languages that data scientists use\n",
    "-some of the commonly used libraries used by the data scientists\n",
    "-List popular languages for data science\n",
    "-few examples of evaluating arithmetic expressions in python"
   ]
  },
  {
   "cell_type": "markdown",
   "id": "c6c14814-a40b-41fd-886d-790f627e1597",
   "metadata": {},
   "source": [
    "Some of the popular languages that data scientists use are:\n",
    "1.Python\n",
    "2.R\n",
    "3.Julia\n",
    "4.Java\n",
    "5.Javascript\n",
    "6.C++"
   ]
  },
  {
   "cell_type": "markdown",
   "id": "f88beff9-e0f4-4a89-9b02-dcde0c161867",
   "metadata": {},
   "source": [
    "Some of the commonly used libraries used by the Data Scientists include:\n",
    "1. Numpy\n",
    "2. Pandas\n",
    "3. Matplotlib\n",
    "4. Seaborn\n",
    "5. Scikit-learn"
   ]
  },
  {
   "cell_type": "markdown",
   "id": "fedf88ee-49b3-4f58-86ab-1f574c7f8b9e",
   "metadata": {},
   "source": [
    "Data science tools\n",
    "------------------\n",
    "Python|\n",
    "R|\n",
    "Apache Spark|\n",
    "Apache Hadoop|\n",
    "Tableau|"
   ]
  },
  {
   "cell_type": "markdown",
   "id": "4df5419c-4969-4b15-b4ba-6aa3fda320a4",
   "metadata": {},
   "source": [
    "### Below are a few examples of evaluating arithmetic expression in python "
   ]
  },
  {
   "cell_type": "code",
   "execution_count": 3,
   "id": "35680a72-2e91-4cda-8e94-e6c0620896ec",
   "metadata": {},
   "outputs": [
    {
     "name": "stdout",
     "output_type": "stream",
     "text": [
      "17\n"
     ]
    }
   ],
   "source": [
    "#This is a simple arithmetic expression to multiply then add integers\n",
    "a=3\n",
    "b=4\n",
    "c=a*b\n",
    "d=5\n",
    "print(c+d)"
   ]
  },
  {
   "cell_type": "code",
   "execution_count": 4,
   "id": "f0958490-7170-4287-89cb-570288decc55",
   "metadata": {},
   "outputs": [
    {
     "name": "stdout",
     "output_type": "stream",
     "text": [
      "3.3333333333333335\n"
     ]
    }
   ],
   "source": [
    "#This will converts minutes to hours by dividing by 60\n",
    "minutes=200\n",
    "print(minutes/60)"
   ]
  },
  {
   "cell_type": "markdown",
   "id": "200593ae-04c2-4d21-a441-2cecb33e194e",
   "metadata": {},
   "source": [
    "## Author\n",
    "Mamatha Lekkala"
   ]
  },
  {
   "cell_type": "code",
   "execution_count": null,
   "id": "71b06086-9ef5-4167-9405-26141beeae4e",
   "metadata": {},
   "outputs": [],
   "source": []
  }
 ],
 "metadata": {
  "kernelspec": {
   "display_name": "Python 3 (ipykernel)",
   "language": "python",
   "name": "python3"
  },
  "language_info": {
   "codemirror_mode": {
    "name": "ipython",
    "version": 3
   },
   "file_extension": ".py",
   "mimetype": "text/x-python",
   "name": "python",
   "nbconvert_exporter": "python",
   "pygments_lexer": "ipython3",
   "version": "3.12.4"
  }
 },
 "nbformat": 4,
 "nbformat_minor": 5
}
